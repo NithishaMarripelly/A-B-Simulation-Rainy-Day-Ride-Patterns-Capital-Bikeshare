{
 "cells": [
  {
   "cell_type": "markdown",
   "id": "7db289da",
   "metadata": {},
   "source": [
    "Data Cleaning of Weather dataset"
   ]
  },
  {
   "cell_type": "code",
   "execution_count": 11,
   "id": "4cbeb970",
   "metadata": {},
   "outputs": [
    {
     "name": "stdout",
     "output_type": "stream",
     "text": [
      "✅ Time column converted and file saved as 'formatted_output.csv'\n"
     ]
    }
   ],
   "source": [
    "import pandas as pd\n",
    "\n",
    "# Load your CSV file (replace with your actual file path)\n",
    "df = pd.read_csv(\"DC_Jan2024-May2024.csv\")\n",
    "\n",
    "# Convert the 'time' column\n",
    "df['time'] = pd.to_datetime(df['time']).dt.strftime('%Y-%m-%d %H:%M:%S')\n",
    "\n",
    "# Save the updated DataFrame\n",
    "df.to_csv(\"formatted_output.csv\", index=False)\n",
    "\n",
    "print(\"✅ Time column converted and file saved as 'formatted_output.csv'\")\n"
   ]
  },
  {
   "cell_type": "code",
   "execution_count": 12,
   "id": "598df49d",
   "metadata": {},
   "outputs": [
    {
     "name": "stdout",
     "output_type": "stream",
     "text": [
      "                  time  temperature_2m (°C)  precipitation (mm)  \\\n",
      "0  2024-01-01 00:00:00                  1.8                 0.0   \n",
      "1  2024-01-01 01:00:00                  2.3                 0.0   \n",
      "2  2024-01-01 02:00:00                  0.9                 0.0   \n",
      "3  2024-01-01 03:00:00                  0.9                 0.0   \n",
      "4  2024-01-01 04:00:00                  0.6                 0.0   \n",
      "\n",
      "   wind_speed_10m (km/h)  relative_humidity_2m (%)  weather_code (wmo code)  \n",
      "0                    7.3                        88                        3  \n",
      "1                    5.4                        88                        0  \n",
      "2                    6.6                        91                        1  \n",
      "3                    6.0                        92                        1  \n",
      "4                    5.8                        92                        1  \n"
     ]
    }
   ],
   "source": [
    "df1=pd.read_csv(\"formatted_output.csv\")\n",
    "\n",
    "print(df1.head(5))"
   ]
  },
  {
   "cell_type": "code",
   "execution_count": 13,
   "id": "e63b9766",
   "metadata": {},
   "outputs": [],
   "source": [
    "# Define bucketing function\n",
    "def categorize_precipitation(val):\n",
    "    if val == 0:\n",
    "        return 'None'\n",
    "    elif val <= 1:\n",
    "        return 'Light'\n",
    "    elif val <= 3:\n",
    "        return 'Moderate'\n",
    "    else:\n",
    "        return 'Heavy'\n",
    "\n",
    "# Apply to your DataFrame\n",
    "df1['precip_category'] = df1['precipitation (mm)'].apply(categorize_precipitation)\n",
    "\n",
    "# Optional: Convert to ordered category for better analysis\n",
    "df1['precip_category'] = pd.Categorical(\n",
    "    df1['precip_category'],\n",
    "    categories=['None', 'Light', 'Moderate', 'Heavy'],\n",
    "    ordered=True\n",
    ")\n"
   ]
  },
  {
   "cell_type": "code",
   "execution_count": 14,
   "id": "5de40066",
   "metadata": {},
   "outputs": [],
   "source": [
    "# Drop the original numeric precipitation column\n",
    "df1.drop(columns=['precipitation (mm)'], inplace=True)\n",
    "\n",
    "# Rename the categorical column\n",
    "df1.rename(columns={'precip_category': 'precipitation'}, inplace=True)\n"
   ]
  },
  {
   "cell_type": "code",
   "execution_count": 19,
   "id": "88cda443",
   "metadata": {},
   "outputs": [],
   "source": [
    "df=pd.read_csv(\"formatted_output.csv\")"
   ]
  },
  {
   "cell_type": "code",
   "execution_count": 21,
   "id": "20aef5c6",
   "metadata": {},
   "outputs": [],
   "source": [
    "def categorize_weather(code):\n",
    "    if code in [0, 1, 2, 3]:\n",
    "        return 'Good'\n",
    "    elif code in [45, 48, 51, 53, 55, 56, 57]:\n",
    "        return 'Caution'\n",
    "    elif code in [61, 63, 65, 66, 67, 71, 73, 75, 77, 80, 81, 82, 85, 86]:\n",
    "        return 'Bad'\n",
    "    elif code in [95, 96, 99]:\n",
    "        return 'Severe'\n",
    "    else:\n",
    "        return 'Unknown'  # fallback for unexpected codes\n",
    "\n",
    "df['weather_code'] = df['weather_code (wmo code)'].apply(categorize_weather)\n",
    "df.drop(columns=['weather_code (wmo code)'], inplace=True)\n"
   ]
  },
  {
   "cell_type": "code",
   "execution_count": 23,
   "id": "7516f68e",
   "metadata": {},
   "outputs": [
    {
     "name": "stdout",
     "output_type": "stream",
     "text": [
      "                  time  temperature_2m (°C)  precipitation (mm)  \\\n",
      "0  2024-01-01 00:00:00                  1.8                 0.0   \n",
      "1  2024-01-01 01:00:00                  2.3                 0.0   \n",
      "2  2024-01-01 02:00:00                  0.9                 0.0   \n",
      "3  2024-01-01 03:00:00                  0.9                 0.0   \n",
      "4  2024-01-01 04:00:00                  0.6                 0.0   \n",
      "\n",
      "   wind_speed_10m (km/h)  relative_humidity_2m (%) weather_code  \n",
      "0                    7.3                        88         Good  \n",
      "1                    5.4                        88         Good  \n",
      "2                    6.6                        91         Good  \n",
      "3                    6.0                        92         Good  \n",
      "4                    5.8                        92         Good  \n"
     ]
    }
   ],
   "source": [
    "print(df.head(5))"
   ]
  },
  {
   "cell_type": "code",
   "execution_count": null,
   "id": "4a04eb4f",
   "metadata": {},
   "outputs": [
    {
     "ename": "",
     "evalue": "",
     "output_type": "error",
     "traceback": [
      "\u001b[1;31mThe Kernel crashed while executing code in the current cell or a previous cell. \n",
      "\u001b[1;31mPlease review the code in the cell(s) to identify a possible cause of the failure. \n",
      "\u001b[1;31mClick <a href='https://aka.ms/vscodeJupyterKernelCrash'>here</a> for more info. \n",
      "\u001b[1;31mView Jupyter <a href='command:jupyter.viewOutput'>log</a> for further details."
     ]
    }
   ],
   "source": [
    "df.to_csv(\"cleaned_weatherdata.csv\", index=False)\n"
   ]
  }
 ],
 "metadata": {
  "kernelspec": {
   "display_name": "base",
   "language": "python",
   "name": "python3"
  },
  "language_info": {
   "codemirror_mode": {
    "name": "ipython",
    "version": 3
   },
   "file_extension": ".py",
   "mimetype": "text/x-python",
   "name": "python",
   "nbconvert_exporter": "python",
   "pygments_lexer": "ipython3",
   "version": "3.12.4"
  }
 },
 "nbformat": 4,
 "nbformat_minor": 5
}
