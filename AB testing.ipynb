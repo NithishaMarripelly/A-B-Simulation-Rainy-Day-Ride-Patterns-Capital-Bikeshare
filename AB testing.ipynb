{
 "cells": [
  {
   "cell_type": "code",
   "execution_count": 10,
   "id": "ce69568c",
   "metadata": {},
   "outputs": [],
   "source": [
    "import pandas as pd\n",
    "import numpy as np"
   ]
  },
  {
   "cell_type": "code",
   "execution_count": 6,
   "id": "039c8f34",
   "metadata": {},
   "outputs": [],
   "source": [
    "weather=pd.read_csv(\"cleaned.csv\")"
   ]
  },
  {
   "cell_type": "code",
   "execution_count": 7,
   "id": "2973c344",
   "metadata": {},
   "outputs": [
    {
     "data": {
      "text/html": [
       "<div>\n",
       "<style scoped>\n",
       "    .dataframe tbody tr th:only-of-type {\n",
       "        vertical-align: middle;\n",
       "    }\n",
       "\n",
       "    .dataframe tbody tr th {\n",
       "        vertical-align: top;\n",
       "    }\n",
       "\n",
       "    .dataframe thead th {\n",
       "        text-align: right;\n",
       "    }\n",
       "</style>\n",
       "<table border=\"1\" class=\"dataframe\">\n",
       "  <thead>\n",
       "    <tr style=\"text-align: right;\">\n",
       "      <th></th>\n",
       "      <th>hour_dt</th>\n",
       "      <th>ride_count</th>\n",
       "      <th>temperature_2m (°C)</th>\n",
       "      <th>precipitation (mm)</th>\n",
       "      <th>wind_speed_10m (km/h)</th>\n",
       "      <th>relative_humidity_2m (%)</th>\n",
       "    </tr>\n",
       "  </thead>\n",
       "  <tbody>\n",
       "    <tr>\n",
       "      <th>0</th>\n",
       "      <td>1/1/2024 1:00</td>\n",
       "      <td>272</td>\n",
       "      <td>2.3</td>\n",
       "      <td>0.0</td>\n",
       "      <td>5.4</td>\n",
       "      <td>88</td>\n",
       "    </tr>\n",
       "    <tr>\n",
       "      <th>1</th>\n",
       "      <td>1/1/2024 2:00</td>\n",
       "      <td>324</td>\n",
       "      <td>0.9</td>\n",
       "      <td>0.0</td>\n",
       "      <td>6.6</td>\n",
       "      <td>91</td>\n",
       "    </tr>\n",
       "    <tr>\n",
       "      <th>2</th>\n",
       "      <td>1/1/2024 3:00</td>\n",
       "      <td>237</td>\n",
       "      <td>0.9</td>\n",
       "      <td>0.0</td>\n",
       "      <td>6.0</td>\n",
       "      <td>92</td>\n",
       "    </tr>\n",
       "    <tr>\n",
       "      <th>3</th>\n",
       "      <td>1/1/2024 4:00</td>\n",
       "      <td>60</td>\n",
       "      <td>0.6</td>\n",
       "      <td>0.0</td>\n",
       "      <td>5.8</td>\n",
       "      <td>92</td>\n",
       "    </tr>\n",
       "    <tr>\n",
       "      <th>4</th>\n",
       "      <td>1/1/2024 5:00</td>\n",
       "      <td>26</td>\n",
       "      <td>1.1</td>\n",
       "      <td>0.6</td>\n",
       "      <td>7.3</td>\n",
       "      <td>91</td>\n",
       "    </tr>\n",
       "  </tbody>\n",
       "</table>\n",
       "</div>"
      ],
      "text/plain": [
       "         hour_dt  ride_count  temperature_2m (°C)  precipitation (mm)  \\\n",
       "0  1/1/2024 1:00         272                  2.3                 0.0   \n",
       "1  1/1/2024 2:00         324                  0.9                 0.0   \n",
       "2  1/1/2024 3:00         237                  0.9                 0.0   \n",
       "3  1/1/2024 4:00          60                  0.6                 0.0   \n",
       "4  1/1/2024 5:00          26                  1.1                 0.6   \n",
       "\n",
       "   wind_speed_10m (km/h)  relative_humidity_2m (%)  \n",
       "0                    5.4                        88  \n",
       "1                    6.6                        91  \n",
       "2                    6.0                        92  \n",
       "3                    5.8                        92  \n",
       "4                    7.3                        91  "
      ]
     },
     "execution_count": 7,
     "metadata": {},
     "output_type": "execute_result"
    }
   ],
   "source": [
    "weather.head()"
   ]
  },
  {
   "cell_type": "code",
   "execution_count": 8,
   "id": "474bde1a",
   "metadata": {},
   "outputs": [],
   "source": [
    "weather['hour_dt'] = pd.to_datetime(weather['hour_dt'])\n",
    "weather['date'] = weather['hour_dt'].dt.date\n",
    "weather['hour'] = weather['hour_dt'].dt.hour"
   ]
  },
  {
   "cell_type": "code",
   "execution_count": null,
   "id": "01b83662",
   "metadata": {},
   "outputs": [],
   "source": [
    "#creating a column to check when it rained after 10am\n",
    "late_rain_days = weather[(weather['hour'] >= 10) & (weather['precipitation (mm)'] > 0)].date.unique()\n"
   ]
  },
  {
   "cell_type": "code",
   "execution_count": null,
   "id": "9f0dcae4",
   "metadata": {},
   "outputs": [],
   "source": [
    "#dividing the late_rain_days into group A and group B\n",
    "np.random.seed(42)  \n",
    "group_b_days = np.random.choice(late_rain_days, size=len(late_rain_days)//2, replace=False)\n",
    "\n",
    "weather['group'] = weather['date'].apply(\n",
    "    lambda x: 'B' if x in group_b_days else ('A' if x in late_rain_days else 'Other')\n",
    ")\n"
   ]
  },
  {
   "cell_type": "code",
   "execution_count": 12,
   "id": "2fb8c580",
   "metadata": {},
   "outputs": [
    {
     "name": "stderr",
     "output_type": "stream",
     "text": [
      "C:\\Users\\nithi\\AppData\\Local\\Temp\\ipykernel_6360\\10047809.py:5: FutureWarning: Setting an item of incompatible dtype is deprecated and will raise in a future error of pandas. Value '[  37.2   55.2   86.4   90.    14.4   43.2   63.6  289.2   37.2   96.\n",
      "  183.6  342.    18.    57.6   64.8  127.2   78.   266.4  722.4 1297.2\n",
      "   82.8  264.   554.4  912.    90.   292.8  750.  1369.2   79.2  249.6\n",
      "  519.6 1023.6   43.2   93.6  105.6  176.4   82.8  264.   638.4 1174.8\n",
      "   36.   104.4  236.4  460.8  102.   382.8 1003.2 1694.4  103.2  330.\n",
      "  872.4 1342.8   28.8   38.4   90.   118.8   99.6  356.4  711.6 1317.6\n",
      "   74.4  218.4  326.4  883.2  104.4  390.   850.8 1528.8   15.6   43.2\n",
      "   50.4   88.8  106.8  388.8  946.8 1746.    81.6  301.2  667.2 1350.\n",
      "   76.8  258.   745.2 1347.6   91.2  224.4  434.4  606.    66.   104.4\n",
      "  241.2  568.8  147.6  439.2 1062.  1890.   123.6  420.   975.6 1766.4\n",
      "  150.   492.  1203.6 1994.4   28.8  103.2  205.2  322.8  144.   417.6\n",
      " 1009.2 1770.   128.4  350.4  747.6 1279.2  109.2  303.6  602.4 1149.6\n",
      "  112.8  382.8  922.8 1563.6   75.6  147.6  165.6  205.2   72.   160.8\n",
      "  318.   528.   183.6  510.  1159.2 1969.2   75.6  192.   307.2  580.8\n",
      "  157.2  522.  1219.2 2011.2   61.2  163.2  238.8  583.2  171.6  464.4\n",
      " 1015.2 1610.4  192.   577.2 1268.4 1964.4  174.   553.2 1284.  2133.6\n",
      "  166.8  478.8  997.2 1576.8  148.8  418.8  916.8 1584.    86.4  211.2\n",
      "  318.   550.8  187.2  528.  1255.2 1964.4  213.6  621.6 1210.8 1906.8\n",
      "  207.6  624.  1232.4 1940.4  200.4  493.2  926.4 1520.4  123.6  188.4\n",
      "  428.4  699.6   90.   172.8  322.8  664.8  223.2  459.6  954.  1574.4\n",
      "  168.   546.  1128.  2088.   176.4  444.   966.  1938.   175.2  554.4\n",
      " 1198.8 2060.4  121.2  202.8  346.8  636.   187.2  556.8 1138.8 1965.6\n",
      "   97.2  307.2  746.4 1388.4  163.2  225.6  416.4  187.2  112.8  249.6\n",
      "  460.8  798.   102.   256.8  459.6  733.2   88.8  188.4  346.8  570.\n",
      "  201.6  543.6 1228.8 1948.8  176.4  460.8 1230.  1850.4  189.6  583.2\n",
      " 1362.  2218.8  214.8  548.4 1339.2 2146.8  170.4  466.8 1020.  1616.4\n",
      "  111.6  285.6  511.2  831.6  165.6  499.2 1171.2 1952.4  177.6  535.2\n",
      " 1272.  2096.4   75.6  165.6  328.8  594.   135.6  398.4 1130.4 1968.\n",
      "  122.4  246.   693.6 1550.4  160.8  432.   784.8 1080.    90.   180.\n",
      "  442.8  742.8  148.8  372.  1009.2 1342.8  168.   367.2  830.4 1300.8\n",
      "  164.4  480.  1249.2 2217.6  207.6  516.  1135.2 2284.8  193.2  531.6\n",
      " 1150.8 1933.2  178.8  489.6 1478.4 2535.6  142.8  402.   938.4 1507.2\n",
      "   39.6   69.6  115.2  190.8   81.6  162.   246.   320.4  148.8  430.8\n",
      " 1171.2 2130.    75.6  321.6  744.  1305.6   55.2  116.4  153.6  193.2\n",
      "   98.4  158.4  243.6  358.8   45.6   73.2  169.2  280.8  123.6  264.\n",
      "  516.   883.2   43.2  103.2  150.   290.4  138.   312.   638.4 1081.2\n",
      "  138.   423.6 1042.8 1766.4   56.4  123.6  268.8  466.8   37.2   73.2\n",
      "  102.   213.6   70.8  132.   206.4  388.8   52.8   72.   140.4  266.4\n",
      "  128.4  304.8  753.6 1414.8  110.4  308.4  772.8 1275.6   60.   160.8\n",
      "  268.8  510.   153.6  356.4  727.2 1404.   172.8  610.8 1288.8 2011.2\n",
      "  186.   532.8 1228.8 2144.4  178.8  338.4  940.8 1550.4  109.2  225.6\n",
      "  463.2  465.6  162.   442.8 1052.4 1359.6   61.2  157.2  285.6  559.2\n",
      "   99.6  213.6  408.   592.8  114.   261.6  552.   945.6  211.2  567.6\n",
      " 1340.4 1989.6  186.   580.8 1304.4 1856.4  154.8  470.4 1166.4 1772.4\n",
      "  198.   576.  1339.2 2028.   205.2  532.8 1335.6 2074.8  177.6  463.2\n",
      " 1100.4 1903.2]' has dtype incompatible with int64, please explicitly cast to a compatible dtype first.\n",
      "  weather.loc[mask, 'simulated_ride_count'] *= 1.20\n"
     ]
    }
   ],
   "source": [
    "# Simulate a +20% increase in early rides for Group B (6–9 AM)\n",
    "weather['simulated_ride_count'] = weather['ride_count']\n",
    "mask = (weather['group'] == 'B') & (weather['hour'].between(6, 9))\n",
    "\n",
    "weather.loc[mask, 'simulated_ride_count'] *= 1.20\n"
   ]
  },
  {
   "cell_type": "code",
   "execution_count": 13,
   "id": "b8fd8b67",
   "metadata": {},
   "outputs": [
    {
     "name": "stdout",
     "output_type": "stream",
     "text": [
      "group\n",
      "A    494.761062\n",
      "B    604.152212\n",
      "Name: simulated_ride_count, dtype: float64\n"
     ]
    }
   ],
   "source": [
    "early_hours = weather[weather['hour'].between(6, 9)]\n",
    "ab_test_data = early_hours[early_hours['group'].isin(['A', 'B'])]\n",
    "\n",
    "ab_summary = ab_test_data.groupby('group')['simulated_ride_count'].mean()\n",
    "print(ab_summary)\n"
   ]
  },
  {
   "cell_type": "code",
   "execution_count": 14,
   "id": "8809c501",
   "metadata": {},
   "outputs": [
    {
     "name": "stdout",
     "output_type": "stream",
     "text": [
      "T-statistic: 3.034, P-value: 0.0025\n"
     ]
    }
   ],
   "source": [
    "from scipy.stats import ttest_ind\n",
    "\n",
    "group_a = ab_test_data[ab_test_data['group'] == 'A']['simulated_ride_count']\n",
    "group_b = ab_test_data[ab_test_data['group'] == 'B']['simulated_ride_count']\n",
    "\n",
    "t_stat, p_val = ttest_ind(group_b, group_a, equal_var=False)\n",
    "print(f\"T-statistic: {t_stat:.3f}, P-value: {p_val:.4f}\")\n"
   ]
  },
  {
   "cell_type": "code",
   "execution_count": 15,
   "id": "3c853c91",
   "metadata": {},
   "outputs": [
    {
     "data": {
      "image/png": "[encoded data removed]",
      "text/plain": [
       "<Figure size 640x480 with 1 Axes>"
      ]
     },
     "metadata": {},
     "output_type": "display_data"
    }
   ],
   "source": [
    "import seaborn as sns\n",
    "import matplotlib.pyplot as plt\n",
    "\n",
    "sns.boxplot(x='group', y='simulated_ride_count', data=ab_test_data)\n",
    "plt.title(\"Early Morning Ride Count (Simulated A/B Test)\")\n",
    "plt.xlabel(\"Group\")\n",
    "plt.ylabel(\"Simulated Ride Count\")\n",
    "plt.show()\n"
   ]
  }
 ],
 "metadata": {
  "kernelspec": {
   "display_name": "base",
   "language": "python",
   "name": "python3"
  },
  "language_info": {
   "codemirror_mode": {
    "name": "ipython",
    "version": 3
   },
   "file_extension": ".py",
   "mimetype": "text/x-python",
   "name": "python",
   "nbconvert_exporter": "python",
   "pygments_lexer": "ipython3",
   "version": "3.12.4"
  }
 },
 "nbformat": 4,
 "nbformat_minor": 5
}
